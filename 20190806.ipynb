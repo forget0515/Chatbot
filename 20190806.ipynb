{
  "nbformat": 4,
  "nbformat_minor": 0,
  "metadata": {
    "colab": {
      "name": "20190806.ipynb",
      "version": "0.3.2",
      "provenance": [],
      "include_colab_link": true
    },
    "kernelspec": {
      "name": "python3",
      "display_name": "Python 3"
    }
  },
  "cells": [
    {
      "cell_type": "markdown",
      "metadata": {
        "id": "view-in-github",
        "colab_type": "text"
      },
      "source": [
        "<a href=\"https://colab.research.google.com/github/forget0515/Chatbot/blob/master/20190806.ipynb\" target=\"_parent\"><img src=\"https://colab.research.google.com/assets/colab-badge.svg\" alt=\"Open In Colab\"/></a>"
      ]
    },
    {
      "cell_type": "code",
      "metadata": {
        "id": "EHumwImijphY",
        "colab_type": "code",
        "colab": {
          "base_uri": "https://localhost:8080/",
          "height": 51
        },
        "outputId": "eec5926a-e9cf-4a87-c662-0653b8d2e3ed"
      },
      "source": [
        "import numpy as np\n",
        "vector = np.array([1,2,3,4])\n",
        "matrix = np.array([[1,'Tom'],[2,'Joay'],[3,'Johnry'],4,'Frank'])\n",
        "print(vector)\n",
        "print(matrix)\n"
      ],
      "execution_count": 1,
      "outputs": [
        {
          "output_type": "stream",
          "text": [
            "[1 2 3 4]\n",
            "[list([1, 'Tom']) list([2, 'Joay']) list([3, 'Johnry']) 4 'Frank']\n"
          ],
          "name": "stdout"
        }
      ]
    },
    {
      "cell_type": "code",
      "metadata": {
        "id": "ec-7bSUjkLo4",
        "colab_type": "code",
        "colab": {
          "base_uri": "https://localhost:8080/",
          "height": 68
        },
        "outputId": "730210aa-b01c-4daf-e21c-7489de6fa2c2"
      },
      "source": [
        "a = np.arange(15).reshape(3,5)\n",
        "print(a.ndim)\n",
        "print(a.shape)\n",
        "print(a.size)"
      ],
      "execution_count": 3,
      "outputs": [
        {
          "output_type": "stream",
          "text": [
            "2\n",
            "(3, 5)\n",
            "15\n"
          ],
          "name": "stdout"
        }
      ]
    }
  ]
}